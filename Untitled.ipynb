{
 "cells": [
  {
   "cell_type": "code",
   "execution_count": 63,
   "id": "accab147-be76-4992-89a4-ea5c55dc1476",
   "metadata": {},
   "outputs": [],
   "source": [
    "import os\n",
    "from keras.models import Model\n",
    "from keras.layers import Input\n",
    "from keras.layers import LSTM\n",
    "from keras.layers import Dense\n",
    "import tensorflow as tf\n",
    "import keras\n",
    "import numpy as np"
   ]
  },
  {
   "cell_type": "code",
   "execution_count": 94,
   "id": "f5e9dcbd-1ce7-44b5-81a3-6d3f984d8f81",
   "metadata": {},
   "outputs": [],
   "source": [
    "import tensorflow as tf\n",
    "physical_devices = tf.config.list_physical_devices('GPU')\n",
    "tf.config.set_visible_devices(physical_devices[0], 'GPU')"
   ]
  },
  {
   "cell_type": "code",
   "execution_count": 28,
   "id": "d11325ee-327c-46d6-8097-ea27773a4c93",
   "metadata": {},
   "outputs": [],
   "source": [
    "train_path = 'dakshina_dataset_v1.0/hi/lexicons/hi.translit.sampled.train.tsv'\n",
    "test_path = 'dakshina_dataset_v1.0/hi/lexicons/hi.translit.sampled.test.tsv'\n",
    "dev_path = 'dakshina_dataset_v1.0/hi/lexicons/hi.translit.sampled.dev.tsv'\n",
    "check_path = 'dakshina_dataset_v1.0/hi/lexicons/check.tsv'"
   ]
  },
  {
   "cell_type": "code",
   "execution_count": 29,
   "id": "bfc8b8cd-0044-4fc1-899f-22634143fc51",
   "metadata": {},
   "outputs": [],
   "source": [
    "batch_size = 64\n",
    "epochs = 100\n",
    "\n",
    "# size of state-vector\n",
    "latent_dim = 256 \n",
    "\n",
    "num_samples = 10000"
   ]
  },
  {
   "cell_type": "code",
   "execution_count": 95,
   "id": "a7daec1b-69be-40e5-80eb-d5d8e95f12c3",
   "metadata": {},
   "outputs": [
    {
     "name": "stdout",
     "output_type": "stream",
     "text": [
      "Number of samples: 10000\n",
      "Number of unique input tokens: 62\n",
      "Number of unique output tokens: 29\n",
      "Max sequence length for inputs: 18\n",
      "Max sequence length for outputs: 20\n"
     ]
    }
   ],
   "source": [
    "input_texts = []\n",
    "target_texts = []\n",
    "input_characters = set()\n",
    "target_characters = set()\n",
    "\n",
    "datas = []\n",
    "with open(train_path,'r',encoding='utf-8') as f:\n",
    "    c = f.read().split('\\n')\n",
    "for line in c[:min(num_samples,len(c)-1)]:\n",
    "    if len(line) != 0:\n",
    "        input_text, target_text = line.split('\\t')[:2]\n",
    "        target_text = '\\t' + target_text + '\\n'\n",
    "        \n",
    "        input_texts.append(input_text)\n",
    "        target_texts.append(target_text)\n",
    "        for char in input_text:\n",
    "            if char not in input_characters:\n",
    "                input_characters.add(char)\n",
    "        for char in target_text:\n",
    "            if char not in target_characters:\n",
    "                target_characters.add(char)\n",
    "\n",
    "input_characters.add(\" \")\n",
    "target_characters.add(\" \")\n",
    "\n",
    "input_characters = sorted(list(input_characters))\n",
    "target_characters = sorted(list(target_characters))\n",
    "\n",
    "num_encoder_tokens = len(input_characters)\n",
    "num_decoder_tokens = len(target_characters)\n",
    "\n",
    "max_encoder_seq_length = max([len(txt) for txt in input_texts])\n",
    "max_decoder_seq_length = max([len(txt) for txt in target_texts])\n",
    "\n",
    "print(f\"Number of samples: {len(input_texts)}\")\n",
    "print(f\"Number of unique input tokens: {num_encoder_tokens}\")\n",
    "print(f\"Number of unique output tokens: {num_decoder_tokens}\")\n",
    "print(f\"Max sequence length for inputs: {max_encoder_seq_length}\")\n",
    "print(f\"Max sequence length for outputs: {max_decoder_seq_length}\")"
   ]
  },
  {
   "cell_type": "code",
   "execution_count": 96,
   "id": "ad4fc2ce-05fe-4975-b17c-d650a794f919",
   "metadata": {},
   "outputs": [],
   "source": [
    "input_token_index = {char: i for i, char in enumerate(input_characters)}\n",
    "target_token_index = {char: i for i, char in enumerate(target_characters)}\n",
    "\n",
    "# Prepare one-hot encoded input and output data\n",
    "encoder_input_data = np.zeros(\n",
    "    (len(input_texts), max_encoder_seq_length, num_encoder_tokens),\n",
    "    dtype=\"float32\",\n",
    ")\n",
    "\n",
    "decoder_input_data = np.zeros(\n",
    "    (len(input_texts), max_decoder_seq_length, num_decoder_tokens),\n",
    "    dtype=\"float32\",\n",
    ")\n",
    "\n",
    "decoder_target_data = np.zeros(\n",
    "    (len(input_texts), max_decoder_seq_length, num_decoder_tokens),\n",
    "    dtype=\"float32\",\n",
    ")\n",
    "\n",
    "# Convert characters to one-hot encoding\n",
    "for i, (input_text, target_text) in enumerate(zip(input_texts, target_texts)):\n",
    "    # For the encoder (Hinglish input)\n",
    "    for t, char in enumerate(input_text):\n",
    "        encoder_input_data[i, t, input_token_index[char]] = 1.0\n",
    "    encoder_input_data[i, len(input_text):, input_token_index[\" \"]] = 1.0  # Padding with space for extra length\n",
    "    \n",
    "    # For the decoder (Hindi output)\n",
    "    for t, char in enumerate(target_text):\n",
    "        decoder_input_data[i, t, target_token_index[char]] = 1.0\n",
    "        if t > 0:\n",
    "            decoder_target_data[i, t - 1, target_token_index[char]] = 1.0\n",
    "    decoder_input_data[i, len(target_text):, target_token_index[\" \"]] = 1.0  # Padding with space for extra length\n",
    "    decoder_target_data[i, len(target_text)-1:, target_token_index[\" \"]] = 1.0  # Padding with space for extra length"
   ]
  },
  {
   "cell_type": "code",
   "execution_count": 97,
   "id": "874ceb8f-0b83-4c69-8572-7245cb26b73e",
   "metadata": {},
   "outputs": [],
   "source": [
    "encoder_inputs = Input(shape=(None,num_encoder_tokens))\n",
    "encoder = LSTM(latent_dim,return_state=True,recurrent_activation='sigmoid')\n",
    "encoder_output, state_h, state_c = encoder(encoder_inputs)\n",
    "\n",
    "encoder_states = [state_h,state_c]\n",
    "\n",
    "decoder_inputs = Input(shape=(None,num_decoder_tokens))\n",
    "\n",
    "decoder = LSTM(latent_dim,return_sequences=True,return_state=True,recurrent_activation='sigmoid')\n",
    "decoder_outputs, _,_ = decoder(decoder_inputs,initial_state=encoder_states)\n",
    "decoder_dense = Dense(num_decoder_tokens,activation='softmax')\n",
    "decoder_outputs = decoder_dense(decoder_outputs)\n",
    "\n",
    "model = keras.Model([encoder_inputs,decoder_inputs],decoder_outputs)"
   ]
  },
  {
   "cell_type": "code",
   "execution_count": 98,
   "id": "ca325134-2a62-40bb-b2ea-7fa8f5529e19",
   "metadata": {},
   "outputs": [
    {
     "name": "stdout",
     "output_type": "stream",
     "text": [
      "Epoch 1/100\n"
     ]
    },
    {
     "name": "stderr",
     "output_type": "stream",
     "text": [
      "E0000 00:00:1745562007.995716   75745 cuda_dnn.cc:522] Loaded runtime CuDNN library: 9.1.0 but source was compiled with: 9.3.0.  CuDNN library needs to have matching major version and equal or higher minor version. If using a binary install, upgrade your CuDNN library.  If building from sources, make sure the library loaded at runtime is compatible with the version specified during compile configuration.\n",
      "2025-04-25 11:50:07.996079: W tensorflow/core/framework/op_kernel.cc:1857] OP_REQUIRES failed at cudnn_rnn_ops.cc:1769 : INVALID_ARGUMENT: Dnn is not supported\n"
     ]
    },
    {
     "ename": "InvalidArgumentError",
     "evalue": "Graph execution error:\n\nDetected at node functional_4_1/lstm_13_1/CudnnRNNV3 defined at (most recent call last):\n  File \"<frozen runpy>\", line 198, in _run_module_as_main\n\n  File \"<frozen runpy>\", line 88, in _run_code\n\n  File \"/home/user/Documents/DL/DL_ENV/lib/python3.12/site-packages/ipykernel_launcher.py\", line 18, in <module>\n\n  File \"/home/user/Documents/DL/DL_ENV/lib/python3.12/site-packages/traitlets/config/application.py\", line 1075, in launch_instance\n\n  File \"/home/user/Documents/DL/DL_ENV/lib/python3.12/site-packages/ipykernel/kernelapp.py\", line 739, in start\n\n  File \"/home/user/Documents/DL/DL_ENV/lib/python3.12/site-packages/tornado/platform/asyncio.py\", line 205, in start\n\n  File \"/home/user/miniconda3/lib/python3.12/asyncio/base_events.py\", line 645, in run_forever\n\n  File \"/home/user/miniconda3/lib/python3.12/asyncio/base_events.py\", line 1999, in _run_once\n\n  File \"/home/user/miniconda3/lib/python3.12/asyncio/events.py\", line 88, in _run\n\n  File \"/home/user/Documents/DL/DL_ENV/lib/python3.12/site-packages/ipykernel/kernelbase.py\", line 545, in dispatch_queue\n\n  File \"/home/user/Documents/DL/DL_ENV/lib/python3.12/site-packages/ipykernel/kernelbase.py\", line 534, in process_one\n\n  File \"/home/user/Documents/DL/DL_ENV/lib/python3.12/site-packages/ipykernel/kernelbase.py\", line 437, in dispatch_shell\n\n  File \"/home/user/Documents/DL/DL_ENV/lib/python3.12/site-packages/ipykernel/ipkernel.py\", line 362, in execute_request\n\n  File \"/home/user/Documents/DL/DL_ENV/lib/python3.12/site-packages/ipykernel/kernelbase.py\", line 778, in execute_request\n\n  File \"/home/user/Documents/DL/DL_ENV/lib/python3.12/site-packages/ipykernel/ipkernel.py\", line 449, in do_execute\n\n  File \"/home/user/Documents/DL/DL_ENV/lib/python3.12/site-packages/ipykernel/zmqshell.py\", line 549, in run_cell\n\n  File \"/home/user/Documents/DL/DL_ENV/lib/python3.12/site-packages/IPython/core/interactiveshell.py\", line 3098, in run_cell\n\n  File \"/home/user/Documents/DL/DL_ENV/lib/python3.12/site-packages/IPython/core/interactiveshell.py\", line 3153, in _run_cell\n\n  File \"/home/user/Documents/DL/DL_ENV/lib/python3.12/site-packages/IPython/core/async_helpers.py\", line 128, in _pseudo_sync_runner\n\n  File \"/home/user/Documents/DL/DL_ENV/lib/python3.12/site-packages/IPython/core/interactiveshell.py\", line 3362, in run_cell_async\n\n  File \"/home/user/Documents/DL/DL_ENV/lib/python3.12/site-packages/IPython/core/interactiveshell.py\", line 3607, in run_ast_nodes\n\n  File \"/home/user/Documents/DL/DL_ENV/lib/python3.12/site-packages/IPython/core/interactiveshell.py\", line 3667, in run_code\n\n  File \"/tmp/ipykernel_70760/3774074621.py\", line 4, in <module>\n\n  File \"/home/user/Documents/DL/DL_ENV/lib/python3.12/site-packages/keras/src/utils/traceback_utils.py\", line 117, in error_handler\n\n  File \"/home/user/Documents/DL/DL_ENV/lib/python3.12/site-packages/keras/src/backend/tensorflow/trainer.py\", line 371, in fit\n\n  File \"/home/user/Documents/DL/DL_ENV/lib/python3.12/site-packages/keras/src/backend/tensorflow/trainer.py\", line 219, in function\n\n  File \"/home/user/Documents/DL/DL_ENV/lib/python3.12/site-packages/keras/src/backend/tensorflow/trainer.py\", line 132, in multi_step_on_iterator\n\n  File \"/home/user/Documents/DL/DL_ENV/lib/python3.12/site-packages/keras/src/backend/tensorflow/trainer.py\", line 113, in one_step_on_data\n\n  File \"/home/user/Documents/DL/DL_ENV/lib/python3.12/site-packages/keras/src/backend/tensorflow/trainer.py\", line 57, in train_step\n\n  File \"/home/user/Documents/DL/DL_ENV/lib/python3.12/site-packages/keras/src/utils/traceback_utils.py\", line 117, in error_handler\n\n  File \"/home/user/Documents/DL/DL_ENV/lib/python3.12/site-packages/keras/src/layers/layer.py\", line 910, in __call__\n\n  File \"/home/user/Documents/DL/DL_ENV/lib/python3.12/site-packages/keras/src/utils/traceback_utils.py\", line 117, in error_handler\n\n  File \"/home/user/Documents/DL/DL_ENV/lib/python3.12/site-packages/keras/src/ops/operation.py\", line 58, in __call__\n\n  File \"/home/user/Documents/DL/DL_ENV/lib/python3.12/site-packages/keras/src/utils/traceback_utils.py\", line 156, in error_handler\n\n  File \"/home/user/Documents/DL/DL_ENV/lib/python3.12/site-packages/keras/src/models/functional.py\", line 183, in call\n\n  File \"/home/user/Documents/DL/DL_ENV/lib/python3.12/site-packages/keras/src/ops/function.py\", line 171, in _run_through_graph\n\n  File \"/home/user/Documents/DL/DL_ENV/lib/python3.12/site-packages/keras/src/models/functional.py\", line 643, in call\n\n  File \"/home/user/Documents/DL/DL_ENV/lib/python3.12/site-packages/keras/src/utils/traceback_utils.py\", line 117, in error_handler\n\n  File \"/home/user/Documents/DL/DL_ENV/lib/python3.12/site-packages/keras/src/layers/layer.py\", line 910, in __call__\n\n  File \"/home/user/Documents/DL/DL_ENV/lib/python3.12/site-packages/keras/src/utils/traceback_utils.py\", line 117, in error_handler\n\n  File \"/home/user/Documents/DL/DL_ENV/lib/python3.12/site-packages/keras/src/ops/operation.py\", line 58, in __call__\n\n  File \"/home/user/Documents/DL/DL_ENV/lib/python3.12/site-packages/keras/src/utils/traceback_utils.py\", line 156, in error_handler\n\n  File \"/home/user/Documents/DL/DL_ENV/lib/python3.12/site-packages/keras/src/layers/rnn/lstm.py\", line 584, in call\n\n  File \"/home/user/Documents/DL/DL_ENV/lib/python3.12/site-packages/keras/src/layers/rnn/rnn.py\", line 408, in call\n\n  File \"/home/user/Documents/DL/DL_ENV/lib/python3.12/site-packages/keras/src/layers/rnn/lstm.py\", line 551, in inner_loop\n\n  File \"/home/user/Documents/DL/DL_ENV/lib/python3.12/site-packages/keras/src/backend/tensorflow/rnn.py\", line 841, in lstm\n\n  File \"/home/user/Documents/DL/DL_ENV/lib/python3.12/site-packages/keras/src/backend/tensorflow/rnn.py\", line 933, in _cudnn_lstm\n\nDnn is not supported\n\t [[{{node functional_4_1/lstm_13_1/CudnnRNNV3}}]] [Op:__inference_multi_step_on_iterator_10609]",
     "output_type": "error",
     "traceback": [
      "\u001b[31m---------------------------------------------------------------------------\u001b[39m",
      "\u001b[31mInvalidArgumentError\u001b[39m                      Traceback (most recent call last)",
      "\u001b[36mCell\u001b[39m\u001b[36m \u001b[39m\u001b[32mIn[98]\u001b[39m\u001b[32m, line 4\u001b[39m\n\u001b[32m      1\u001b[39m model.compile(\n\u001b[32m      2\u001b[39m     optimizer=\u001b[33m\"\u001b[39m\u001b[33mrmsprop\u001b[39m\u001b[33m\"\u001b[39m, loss=\u001b[33m\"\u001b[39m\u001b[33mcategorical_crossentropy\u001b[39m\u001b[33m\"\u001b[39m, metrics=[\u001b[33m\"\u001b[39m\u001b[33maccuracy\u001b[39m\u001b[33m\"\u001b[39m]\n\u001b[32m      3\u001b[39m )\n\u001b[32m----> \u001b[39m\u001b[32m4\u001b[39m \u001b[43mmodel\u001b[49m\u001b[43m.\u001b[49m\u001b[43mfit\u001b[49m\u001b[43m(\u001b[49m\n\u001b[32m      5\u001b[39m \u001b[43m    \u001b[49m\u001b[43m[\u001b[49m\u001b[43mencoder_input_data\u001b[49m\u001b[43m,\u001b[49m\u001b[43m \u001b[49m\u001b[43mdecoder_input_data\u001b[49m\u001b[43m]\u001b[49m\u001b[43m,\u001b[49m\n\u001b[32m      6\u001b[39m \u001b[43m    \u001b[49m\u001b[43mdecoder_target_data\u001b[49m\u001b[43m,\u001b[49m\n\u001b[32m      7\u001b[39m \u001b[43m    \u001b[49m\u001b[43mbatch_size\u001b[49m\u001b[43m=\u001b[49m\u001b[43mbatch_size\u001b[49m\u001b[43m,\u001b[49m\n\u001b[32m      8\u001b[39m \u001b[43m    \u001b[49m\u001b[43mepochs\u001b[49m\u001b[43m=\u001b[49m\u001b[43mepochs\u001b[49m\u001b[43m,\u001b[49m\n\u001b[32m      9\u001b[39m \u001b[43m    \u001b[49m\u001b[43mvalidation_split\u001b[49m\u001b[43m=\u001b[49m\u001b[32;43m0.2\u001b[39;49m\u001b[43m,\u001b[49m\n\u001b[32m     10\u001b[39m \u001b[43m)\u001b[49m\n\u001b[32m     11\u001b[39m \u001b[38;5;66;03m# Save model\u001b[39;00m\n\u001b[32m     12\u001b[39m model.save(\u001b[33m\"\u001b[39m\u001b[33ms2s_model.keras\u001b[39m\u001b[33m\"\u001b[39m)\n",
      "\u001b[36mFile \u001b[39m\u001b[32m~/Documents/DL/DL_ENV/lib/python3.12/site-packages/keras/src/utils/traceback_utils.py:122\u001b[39m, in \u001b[36mfilter_traceback.<locals>.error_handler\u001b[39m\u001b[34m(*args, **kwargs)\u001b[39m\n\u001b[32m    119\u001b[39m     filtered_tb = _process_traceback_frames(e.__traceback__)\n\u001b[32m    120\u001b[39m     \u001b[38;5;66;03m# To get the full stack trace, call:\u001b[39;00m\n\u001b[32m    121\u001b[39m     \u001b[38;5;66;03m# `keras.config.disable_traceback_filtering()`\u001b[39;00m\n\u001b[32m--> \u001b[39m\u001b[32m122\u001b[39m     \u001b[38;5;28;01mraise\u001b[39;00m e.with_traceback(filtered_tb) \u001b[38;5;28;01mfrom\u001b[39;00m\u001b[38;5;250m \u001b[39m\u001b[38;5;28;01mNone\u001b[39;00m\n\u001b[32m    123\u001b[39m \u001b[38;5;28;01mfinally\u001b[39;00m:\n\u001b[32m    124\u001b[39m     \u001b[38;5;28;01mdel\u001b[39;00m filtered_tb\n",
      "\u001b[36mFile \u001b[39m\u001b[32m~/Documents/DL/DL_ENV/lib/python3.12/site-packages/tensorflow/python/eager/execute.py:53\u001b[39m, in \u001b[36mquick_execute\u001b[39m\u001b[34m(op_name, num_outputs, inputs, attrs, ctx, name)\u001b[39m\n\u001b[32m     51\u001b[39m \u001b[38;5;28;01mtry\u001b[39;00m:\n\u001b[32m     52\u001b[39m   ctx.ensure_initialized()\n\u001b[32m---> \u001b[39m\u001b[32m53\u001b[39m   tensors = pywrap_tfe.TFE_Py_Execute(ctx._handle, device_name, op_name,\n\u001b[32m     54\u001b[39m                                       inputs, attrs, num_outputs)\n\u001b[32m     55\u001b[39m \u001b[38;5;28;01mexcept\u001b[39;00m core._NotOkStatusException \u001b[38;5;28;01mas\u001b[39;00m e:\n\u001b[32m     56\u001b[39m   \u001b[38;5;28;01mif\u001b[39;00m name \u001b[38;5;129;01mis\u001b[39;00m \u001b[38;5;129;01mnot\u001b[39;00m \u001b[38;5;28;01mNone\u001b[39;00m:\n",
      "\u001b[31mInvalidArgumentError\u001b[39m: Graph execution error:\n\nDetected at node functional_4_1/lstm_13_1/CudnnRNNV3 defined at (most recent call last):\n  File \"<frozen runpy>\", line 198, in _run_module_as_main\n\n  File \"<frozen runpy>\", line 88, in _run_code\n\n  File \"/home/user/Documents/DL/DL_ENV/lib/python3.12/site-packages/ipykernel_launcher.py\", line 18, in <module>\n\n  File \"/home/user/Documents/DL/DL_ENV/lib/python3.12/site-packages/traitlets/config/application.py\", line 1075, in launch_instance\n\n  File \"/home/user/Documents/DL/DL_ENV/lib/python3.12/site-packages/ipykernel/kernelapp.py\", line 739, in start\n\n  File \"/home/user/Documents/DL/DL_ENV/lib/python3.12/site-packages/tornado/platform/asyncio.py\", line 205, in start\n\n  File \"/home/user/miniconda3/lib/python3.12/asyncio/base_events.py\", line 645, in run_forever\n\n  File \"/home/user/miniconda3/lib/python3.12/asyncio/base_events.py\", line 1999, in _run_once\n\n  File \"/home/user/miniconda3/lib/python3.12/asyncio/events.py\", line 88, in _run\n\n  File \"/home/user/Documents/DL/DL_ENV/lib/python3.12/site-packages/ipykernel/kernelbase.py\", line 545, in dispatch_queue\n\n  File \"/home/user/Documents/DL/DL_ENV/lib/python3.12/site-packages/ipykernel/kernelbase.py\", line 534, in process_one\n\n  File \"/home/user/Documents/DL/DL_ENV/lib/python3.12/site-packages/ipykernel/kernelbase.py\", line 437, in dispatch_shell\n\n  File \"/home/user/Documents/DL/DL_ENV/lib/python3.12/site-packages/ipykernel/ipkernel.py\", line 362, in execute_request\n\n  File \"/home/user/Documents/DL/DL_ENV/lib/python3.12/site-packages/ipykernel/kernelbase.py\", line 778, in execute_request\n\n  File \"/home/user/Documents/DL/DL_ENV/lib/python3.12/site-packages/ipykernel/ipkernel.py\", line 449, in do_execute\n\n  File \"/home/user/Documents/DL/DL_ENV/lib/python3.12/site-packages/ipykernel/zmqshell.py\", line 549, in run_cell\n\n  File \"/home/user/Documents/DL/DL_ENV/lib/python3.12/site-packages/IPython/core/interactiveshell.py\", line 3098, in run_cell\n\n  File \"/home/user/Documents/DL/DL_ENV/lib/python3.12/site-packages/IPython/core/interactiveshell.py\", line 3153, in _run_cell\n\n  File \"/home/user/Documents/DL/DL_ENV/lib/python3.12/site-packages/IPython/core/async_helpers.py\", line 128, in _pseudo_sync_runner\n\n  File \"/home/user/Documents/DL/DL_ENV/lib/python3.12/site-packages/IPython/core/interactiveshell.py\", line 3362, in run_cell_async\n\n  File \"/home/user/Documents/DL/DL_ENV/lib/python3.12/site-packages/IPython/core/interactiveshell.py\", line 3607, in run_ast_nodes\n\n  File \"/home/user/Documents/DL/DL_ENV/lib/python3.12/site-packages/IPython/core/interactiveshell.py\", line 3667, in run_code\n\n  File \"/tmp/ipykernel_70760/3774074621.py\", line 4, in <module>\n\n  File \"/home/user/Documents/DL/DL_ENV/lib/python3.12/site-packages/keras/src/utils/traceback_utils.py\", line 117, in error_handler\n\n  File \"/home/user/Documents/DL/DL_ENV/lib/python3.12/site-packages/keras/src/backend/tensorflow/trainer.py\", line 371, in fit\n\n  File \"/home/user/Documents/DL/DL_ENV/lib/python3.12/site-packages/keras/src/backend/tensorflow/trainer.py\", line 219, in function\n\n  File \"/home/user/Documents/DL/DL_ENV/lib/python3.12/site-packages/keras/src/backend/tensorflow/trainer.py\", line 132, in multi_step_on_iterator\n\n  File \"/home/user/Documents/DL/DL_ENV/lib/python3.12/site-packages/keras/src/backend/tensorflow/trainer.py\", line 113, in one_step_on_data\n\n  File \"/home/user/Documents/DL/DL_ENV/lib/python3.12/site-packages/keras/src/backend/tensorflow/trainer.py\", line 57, in train_step\n\n  File \"/home/user/Documents/DL/DL_ENV/lib/python3.12/site-packages/keras/src/utils/traceback_utils.py\", line 117, in error_handler\n\n  File \"/home/user/Documents/DL/DL_ENV/lib/python3.12/site-packages/keras/src/layers/layer.py\", line 910, in __call__\n\n  File \"/home/user/Documents/DL/DL_ENV/lib/python3.12/site-packages/keras/src/utils/traceback_utils.py\", line 117, in error_handler\n\n  File \"/home/user/Documents/DL/DL_ENV/lib/python3.12/site-packages/keras/src/ops/operation.py\", line 58, in __call__\n\n  File \"/home/user/Documents/DL/DL_ENV/lib/python3.12/site-packages/keras/src/utils/traceback_utils.py\", line 156, in error_handler\n\n  File \"/home/user/Documents/DL/DL_ENV/lib/python3.12/site-packages/keras/src/models/functional.py\", line 183, in call\n\n  File \"/home/user/Documents/DL/DL_ENV/lib/python3.12/site-packages/keras/src/ops/function.py\", line 171, in _run_through_graph\n\n  File \"/home/user/Documents/DL/DL_ENV/lib/python3.12/site-packages/keras/src/models/functional.py\", line 643, in call\n\n  File \"/home/user/Documents/DL/DL_ENV/lib/python3.12/site-packages/keras/src/utils/traceback_utils.py\", line 117, in error_handler\n\n  File \"/home/user/Documents/DL/DL_ENV/lib/python3.12/site-packages/keras/src/layers/layer.py\", line 910, in __call__\n\n  File \"/home/user/Documents/DL/DL_ENV/lib/python3.12/site-packages/keras/src/utils/traceback_utils.py\", line 117, in error_handler\n\n  File \"/home/user/Documents/DL/DL_ENV/lib/python3.12/site-packages/keras/src/ops/operation.py\", line 58, in __call__\n\n  File \"/home/user/Documents/DL/DL_ENV/lib/python3.12/site-packages/keras/src/utils/traceback_utils.py\", line 156, in error_handler\n\n  File \"/home/user/Documents/DL/DL_ENV/lib/python3.12/site-packages/keras/src/layers/rnn/lstm.py\", line 584, in call\n\n  File \"/home/user/Documents/DL/DL_ENV/lib/python3.12/site-packages/keras/src/layers/rnn/rnn.py\", line 408, in call\n\n  File \"/home/user/Documents/DL/DL_ENV/lib/python3.12/site-packages/keras/src/layers/rnn/lstm.py\", line 551, in inner_loop\n\n  File \"/home/user/Documents/DL/DL_ENV/lib/python3.12/site-packages/keras/src/backend/tensorflow/rnn.py\", line 841, in lstm\n\n  File \"/home/user/Documents/DL/DL_ENV/lib/python3.12/site-packages/keras/src/backend/tensorflow/rnn.py\", line 933, in _cudnn_lstm\n\nDnn is not supported\n\t [[{{node functional_4_1/lstm_13_1/CudnnRNNV3}}]] [Op:__inference_multi_step_on_iterator_10609]"
     ]
    }
   ],
   "source": [
    "model.compile(\n",
    "    optimizer=\"rmsprop\", loss=\"categorical_crossentropy\", metrics=[\"accuracy\"]\n",
    ")\n",
    "model.fit(\n",
    "    [encoder_input_data, decoder_input_data],\n",
    "    decoder_target_data,\n",
    "    batch_size=batch_size,\n",
    "    epochs=epochs,\n",
    "    validation_split=0.2,\n",
    ")\n",
    "# Save model\n",
    "model.save(\"s2s_model.keras\")"
   ]
  },
  {
   "cell_type": "code",
   "execution_count": 86,
   "id": "2f1ca38c-567f-46e5-8584-460a04e95bc8",
   "metadata": {},
   "outputs": [
    {
     "name": "stdout",
     "output_type": "stream",
     "text": [
      "[PhysicalDevice(name='/physical_device:GPU:0', device_type='GPU')]\n"
     ]
    }
   ],
   "source": [
    "import tensorflow as tf\n",
    "print(tf.config.list_physical_devices('GPU'))\n"
   ]
  },
  {
   "cell_type": "code",
   "execution_count": 87,
   "id": "f4ec09d4-e564-4f13-9bef-ab5830ad12aa",
   "metadata": {},
   "outputs": [
    {
     "name": "stdout",
     "output_type": "stream",
     "text": [
      "2.19.0\n"
     ]
    }
   ],
   "source": [
    "import tensorflow as tf\n",
    "print(tf.__version__)\n"
   ]
  },
  {
   "cell_type": "code",
   "execution_count": 91,
   "id": "055776f8-0e07-4ddb-9e08-9197f4820898",
   "metadata": {},
   "outputs": [
    {
     "ename": "AttributeError",
     "evalue": "module 'tensorflow._api.v2.sysconfig' has no attribute 'get_lib_cuda_version'",
     "output_type": "error",
     "traceback": [
      "\u001b[31m---------------------------------------------------------------------------\u001b[39m",
      "\u001b[31mAttributeError\u001b[39m                            Traceback (most recent call last)",
      "\u001b[36mCell\u001b[39m\u001b[36m \u001b[39m\u001b[32mIn[91]\u001b[39m\u001b[32m, line 7\u001b[39m\n\u001b[32m      4\u001b[39m tf_version = tf.__version__\n\u001b[32m      6\u001b[39m \u001b[38;5;66;03m# Check CUDA version\u001b[39;00m\n\u001b[32m----> \u001b[39m\u001b[32m7\u001b[39m cuda_version = \u001b[43mtf\u001b[49m\u001b[43m.\u001b[49m\u001b[43msysconfig\u001b[49m\u001b[43m.\u001b[49m\u001b[43mget_lib_cuda_version\u001b[49m()\n\u001b[32m      9\u001b[39m \u001b[38;5;66;03m# Check cuDNN version\u001b[39;00m\n\u001b[32m     10\u001b[39m cudnn_version = tf.sysconfig.get_lib_cudnn_version()\n",
      "\u001b[31mAttributeError\u001b[39m: module 'tensorflow._api.v2.sysconfig' has no attribute 'get_lib_cuda_version'"
     ]
    }
   ],
   "source": [
    "import tensorflow as tf\n",
    "print(tf.sysconfig.get_build_info()['cuda_version'])\n"
   ]
  },
  {
   "cell_type": "code",
   "execution_count": 93,
   "id": "f2db64a3-f259-47de-abbd-96353c6e07bb",
   "metadata": {},
   "outputs": [
    {
     "data": {
      "text/plain": [
       "OrderedDict([('cpu_compiler', '/usr/lib/llvm-18/bin/clang'),\n",
       "             ('cuda_compute_capabilities',\n",
       "              ['sm_60', 'sm_70', 'sm_80', 'sm_89', 'compute_90']),\n",
       "             ('cuda_version', '12.5.1'),\n",
       "             ('cudnn_version', '9'),\n",
       "             ('is_cuda_build', True),\n",
       "             ('is_rocm_build', False),\n",
       "             ('is_tensorrt_build', False)])"
      ]
     },
     "execution_count": 93,
     "metadata": {},
     "output_type": "execute_result"
    }
   ],
   "source": [
    "tf.sysconfig.get_build_info()"
   ]
  },
  {
   "cell_type": "code",
   "execution_count": null,
   "id": "baced8da-9bba-4c8f-af23-778ce0fafd20",
   "metadata": {},
   "outputs": [],
   "source": [
    "()"
   ]
  }
 ],
 "metadata": {
  "kernelspec": {
   "display_name": "Python 3 (ipykernel)",
   "language": "python",
   "name": "python3"
  },
  "language_info": {
   "codemirror_mode": {
    "name": "ipython",
    "version": 3
   },
   "file_extension": ".py",
   "mimetype": "text/x-python",
   "name": "python",
   "nbconvert_exporter": "python",
   "pygments_lexer": "ipython3",
   "version": "3.12.9"
  }
 },
 "nbformat": 4,
 "nbformat_minor": 5
}
